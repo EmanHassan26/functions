{
 "cells": [
  {
   "cell_type": "code",
   "execution_count": 27,
   "metadata": {},
   "outputs": [
    {
     "name": "stdout",
     "output_type": "stream",
     "text": [
      "None\n",
      "None\n",
      "None\n",
      "None\n",
      "0\n",
      "0\n",
      "None\n",
      "None\n",
      "None\n",
      "None\n",
      "None\n",
      "None\n"
     ]
    }
   ],
   "source": [
    "#map(function,iterable)\n",
    "\n",
    "#iterable:\n",
    "lst=[1,2,3,5,0,0,1,10,1,1,1,50]\n",
    "\n",
    "#function:\n",
    "def check(x):\n",
    "    if x==0 :\n",
    "        return x\n",
    "    \n",
    "data=map(check,lst)\n",
    "\n",
    "#loop:\n",
    "for x in data :\n",
    "    print(x)\n",
    "\n",
    "    "
   ]
  },
  {
   "cell_type": "code",
   "execution_count": 4,
   "metadata": {},
   "outputs": [
    {
     "name": "stdout",
     "output_type": "stream",
     "text": [
      "None\n",
      "25\n",
      "31\n",
      "35\n",
      "90\n",
      "None\n",
      "11\n",
      "None\n",
      "12\n",
      "13\n",
      "11\n",
      "50\n"
     ]
    }
   ],
   "source": [
    "#map(function,iterable)\n",
    "\n",
    "#iterable:\n",
    "lst=[10,25,31,35,90,0,11,10,12,13,11,50]\n",
    "\n",
    "#function:\n",
    "def check(x):\n",
    "    if x>10 :\n",
    "        return x\n",
    "    \n",
    "data=map(check,lst)\n",
    "\n",
    "#loop:\n",
    "for x in data :\n",
    "    print(x)"
   ]
  },
  {
   "cell_type": "code",
   "execution_count": 35,
   "metadata": {},
   "outputs": [
    {
     "name": "stdout",
     "output_type": "stream",
     "text": [
      "True\n",
      "True\n",
      "True\n",
      "True\n",
      "True\n",
      "False\n",
      "True\n",
      "True\n",
      "True\n",
      "True\n",
      "True\n",
      "True\n"
     ]
    }
   ],
   "source": [
    "#Maping Using Lambda Function:\n",
    "\n",
    "#iterable:\n",
    "y=[10,25,31,35,90,0,11,10,12,13,11,50]\n",
    "\n",
    "#Lambda function:\n",
    "#m= lambda lst : lst>10   \n",
    "#data=map(lambda lst :(y>10)==True , y)\n",
    "\n",
    "var = lambda y : y>=10\n",
    "\n",
    "data=map(var,y)\n",
    "\n",
    "#loop:\n",
    "for x in data :\n",
    "    print(x)"
   ]
  },
  {
   "cell_type": "code",
   "execution_count": 23,
   "metadata": {},
   "outputs": [
    {
     "name": "stdout",
     "output_type": "stream",
     "text": [
      "None\n",
      "None\n",
      "Sala\n",
      "Samir\n",
      "None\n",
      "None\n",
      "None\n",
      "None\n"
     ]
    }
   ],
   "source": [
    "#STRING\n",
    "nm=['Ali','Ameer','Sala','Samir','Jaber','Zein','Jaylan','Zeina']\n",
    "#Case Senstive\n",
    "def fun (n):\n",
    "    if n.startswith('S') == True :\n",
    "        return n\n",
    "\n",
    "    \n",
    "var=map(fun,nm)\n",
    "\n",
    "for xx in var:\n",
    "    print(xx)"
   ]
  },
  {
   "cell_type": "code",
   "execution_count": 43,
   "metadata": {},
   "outputs": [
    {
     "name": "stdout",
     "output_type": "stream",
     "text": [
      "True\n",
      "True\n",
      "False\n",
      "False\n",
      "False\n",
      "False\n",
      "False\n",
      "False\n"
     ]
    }
   ],
   "source": [
    "#STRING\n",
    "#Case Senstive\n",
    "#Lambda Function\n",
    "nm=['Ali','Ameer','Sala','Samir','Jaber','Zein','Jaylan','Zeina']\n",
    "z = map(lambda n : n.startswith('A') , nm)        \n",
    "for x in z:\n",
    "    print(x)"
   ]
  },
  {
   "cell_type": "code",
   "execution_count": null,
   "metadata": {},
   "outputs": [],
   "source": []
  },
  {
   "cell_type": "code",
   "execution_count": null,
   "metadata": {},
   "outputs": [],
   "source": []
  }
 ],
 "metadata": {
  "kernelspec": {
   "display_name": "Python 3",
   "language": "python",
   "name": "python3"
  },
  "language_info": {
   "codemirror_mode": {
    "name": "ipython",
    "version": 3
   },
   "file_extension": ".py",
   "mimetype": "text/x-python",
   "name": "python",
   "nbconvert_exporter": "python",
   "pygments_lexer": "ipython3",
   "version": "3.7.4"
  }
 },
 "nbformat": 4,
 "nbformat_minor": 2
}
