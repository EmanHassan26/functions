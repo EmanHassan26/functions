{
 "cells": [
  {
   "cell_type": "code",
   "execution_count": 3,
   "metadata": {},
   "outputs": [
    {
     "name": "stdout",
     "output_type": "stream",
     "text": [
      "x from function one : 2\n",
      "x as global avariable : 2\n",
      "x from function two : 10\n",
      "x as global avariable : 2\n"
     ]
    }
   ],
   "source": [
    "def one () :\n",
    "    global x\n",
    "    x=2\n",
    "    print(f\"x from function one : {x}\")   \n",
    "\n",
    "def two () : \n",
    "    x=10\n",
    "    print(f\"x from function two : {x}\")\n",
    "    \n",
    "one()\n",
    "print(f\"x as global avariable : {x}\")\n",
    "two()\n",
    "print(f\"x as global avariable : {x}\")"
   ]
  },
  {
   "cell_type": "code",
   "execution_count": 6,
   "metadata": {},
   "outputs": [
    {
     "name": "stdout",
     "output_type": "stream",
     "text": [
      "put Ur word here : eeeeeeeemmmmmmmmmaaaaaaaaaaaaaaaannnnnnnnooooooooooooooooooooooooooooooon\n"
     ]
    },
    {
     "data": {
      "text/plain": [
       "'emanon'"
      ]
     },
     "execution_count": 6,
     "metadata": {},
     "output_type": "execute_result"
    }
   ],
   "source": [
    "#recursion Fuction :\n",
    "\n",
    "x=input(\"put Ur word here : \")\n",
    "\n",
    "def unclean (x):\n",
    "    \n",
    "    if len(x) == 1 :\n",
    "        \n",
    "        return x\n",
    "    \n",
    "    if x[0] == x[1] :\n",
    "        \n",
    "        return unclean(x[1:]) \n",
    "    \n",
    "    return x[0] + unclean(x[1:])\n",
    "    \n",
    "unclean(x)   "
   ]
  },
  {
   "cell_type": "code",
   "execution_count": 10,
   "metadata": {},
   "outputs": [
    {
     "name": "stdout",
     "output_type": "stream",
     "text": [
      "Ur name is: Ahmed , Ur age is : 21 , Ur career is : Engineer\n"
     ]
    }
   ],
   "source": [
    "# LAMBDA FUNCTION \n",
    "\n",
    "hello = lambda n , a ,c : f\"Ur name is: {n} , Ur age is : {a} , Ur career is : {c}\"\n",
    "\n",
    "print(hello(\"Ahmed\" , 21 , \"Engineer\"))"
   ]
  },
  {
   "cell_type": "code",
   "execution_count": null,
   "metadata": {},
   "outputs": [],
   "source": []
  },
  {
   "cell_type": "code",
   "execution_count": null,
   "metadata": {},
   "outputs": [],
   "source": []
  }
 ],
 "metadata": {
  "kernelspec": {
   "display_name": "Python 3",
   "language": "python",
   "name": "python3"
  },
  "language_info": {
   "codemirror_mode": {
    "name": "ipython",
    "version": 3
   },
   "file_extension": ".py",
   "mimetype": "text/x-python",
   "name": "python",
   "nbconvert_exporter": "python",
   "pygments_lexer": "ipython3",
   "version": "3.7.4"
  }
 },
 "nbformat": 4,
 "nbformat_minor": 2
}
