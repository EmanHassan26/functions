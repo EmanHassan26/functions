{
 "cells": [
  {
   "cell_type": "code",
   "execution_count": 11,
   "metadata": {},
   "outputs": [
    {
     "name": "stdout",
     "output_type": "stream",
     "text": [
      "HELLO => Ali\n",
      "HELLO => Emanon\n",
      "HELLO => Somy\n",
      "HELLO => Samy\n",
      "HELLO => Jaber\n"
     ]
    }
   ],
   "source": [
    "#function  <<  packing  >>\n",
    "#unkown number of paramerters:\n",
    "#using *\n",
    "def welcome ( *names) :\n",
    "    for n in names :\n",
    "        print(f\"HELLO => {n}\")\n",
    "\n",
    "#call the function :\n",
    "\n",
    "welcome(\"Ali\",\"Emanon\",\"Somy\",\"Samy\",\"Jaber\")\n",
    "    \n",
    "    "
   ]
  },
  {
   "cell_type": "code",
   "execution_count": 14,
   "metadata": {},
   "outputs": [
    {
     "name": "stdout",
     "output_type": "stream",
     "text": [
      "HelloAli , you are 22 ,lives in Egypt\n",
      "HelloLila , you are 20 ,lives in Egypt\n"
     ]
    }
   ],
   "source": [
    "#Defualt parameters :\n",
    "#written at the last , bro\n",
    "def info (n , c , a = 20) :\n",
    "    print(f\"Hello{n} , you are {a} ,lives in {c}\")\n",
    "\n",
    "#call the function :\n",
    "info(\"Ali\" , \"Egypt\" , 22)\n",
    "info(\"Lila\" , \"Egypt\")\n",
    "\n",
    "    "
   ]
  },
  {
   "cell_type": "code",
   "execution_count": null,
   "metadata": {},
   "outputs": [],
   "source": []
  }
 ],
 "metadata": {
  "kernelspec": {
   "display_name": "Python 3",
   "language": "python",
   "name": "python3"
  },
  "language_info": {
   "codemirror_mode": {
    "name": "ipython",
    "version": 3
   },
   "file_extension": ".py",
   "mimetype": "text/x-python",
   "name": "python",
   "nbconvert_exporter": "python",
   "pygments_lexer": "ipython3",
   "version": "3.7.4"
  }
 },
 "nbformat": 4,
 "nbformat_minor": 2
}
