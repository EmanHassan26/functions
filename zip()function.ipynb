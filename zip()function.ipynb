{
 "cells": [
  {
   "cell_type": "code",
   "execution_count": 2,
   "metadata": {},
   "outputs": [
    {
     "name": "stdout",
     "output_type": "stream",
     "text": [
      "Items Form List 1 Is 1\n",
      "Items Form List 2 Is A\n",
      "Items Form List 1 Is 2\n",
      "Items Form List 2 Is B\n",
      "Items Form List 1 Is 3\n",
      "Items Form List 2 Is C\n",
      "Items Form List 1 Is 4\n",
      "Items Form List 2 Is D\n",
      "Items Form List 1 Is 5\n",
      "Items Form List 2 Is E\n"
     ]
    }
   ],
   "source": [
    "l1=[1,2,3,4,5,6,7]\n",
    "l2=[\"A\",\"B\",\"C\",\"D\",\"E\"]\n",
    "\n",
    "for n1 ,n2 in zip(l1,l2):\n",
    "    print(f\"Items Form List 1 Is {n1}\")\n",
    "    print(f\"Items Form List 2 Is {n2}\")"
   ]
  },
  {
   "cell_type": "code",
   "execution_count": null,
   "metadata": {},
   "outputs": [],
   "source": []
  }
 ],
 "metadata": {
  "kernelspec": {
   "display_name": "Python 3",
   "language": "python",
   "name": "python3"
  },
  "language_info": {
   "codemirror_mode": {
    "name": "ipython",
    "version": 3
   },
   "file_extension": ".py",
   "mimetype": "text/x-python",
   "name": "python",
   "nbconvert_exporter": "python",
   "pygments_lexer": "ipython3",
   "version": "3.7.4"
  }
 },
 "nbformat": 4,
 "nbformat_minor": 2
}
